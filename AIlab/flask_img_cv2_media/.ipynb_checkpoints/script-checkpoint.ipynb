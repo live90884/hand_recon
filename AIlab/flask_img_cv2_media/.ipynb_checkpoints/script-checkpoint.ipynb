{
 "cells": [
  {
   "cell_type": "code",
   "execution_count": 2,
   "id": "18473f0c-9e83-434d-8c11-ddc38f3de52a",
   "metadata": {},
   "outputs": [
    {
     "data": {
      "text/plain": [
       "(('1', '2'), ('3', '4'), ('5', '6'))"
      ]
     },
     "execution_count": 2,
     "metadata": {},
     "output_type": "execute_result"
    }
   ],
   "source": [
    "def  string_to_point(string):\n",
    "    characters = \"() \"\n",
    "    for x in range(len(characters)):\n",
    "        string = string.replace(characters[x], '')\n",
    "    a = string.split(',')\n",
    "    return (int(a[0]), int(a[1])), (int(a[2]), int(a[3])), (int(a[4]), int(a[5]))\n",
    "string_to_point('(1,2),(3,4), (5,6)')"
   ]
  },
  {
   "cell_type": "code",
   "execution_count": null,
   "id": "87e31876-b5b2-45b0-b052-64d312d43e4c",
   "metadata": {},
   "outputs": [],
   "source": []
  }
 ],
 "metadata": {
  "kernelspec": {
   "display_name": "Python 3 (ipykernel)",
   "language": "python",
   "name": "python3"
  },
  "language_info": {
   "codemirror_mode": {
    "name": "ipython",
    "version": 3
   },
   "file_extension": ".py",
   "mimetype": "text/x-python",
   "name": "python",
   "nbconvert_exporter": "python",
   "pygments_lexer": "ipython3",
   "version": "3.9.7"
  }
 },
 "nbformat": 4,
 "nbformat_minor": 5
}
