{
 "cells": [
  {
   "cell_type": "code",
   "execution_count": 24,
   "id": "18007753-a1e7-469b-8146-3ee68c05903d",
   "metadata": {},
   "outputs": [
    {
     "name": "stdout",
     "output_type": "stream",
     "text": [
      "hand type: right\n"
     ]
    },
    {
     "data": {
      "text/plain": [
       "'((2-3)-(2-4)-(2-5))'"
      ]
     },
     "execution_count": 24,
     "metadata": {},
     "output_type": "execute_result"
    }
   ],
   "source": [
    "from function.label import exe # (folder id, find width rate, whether show select point, grid_number)\n",
    "from function.check import check_label\n",
    "#check_label(id = '25', const_rate = 5, whether_show = 1, grid_number = 5, width_rate = 2, alter_ori =  0, low_bound = 30, upper_bound = 200)\n",
    "exe(id = '36', const_rate = 5, whether_show = True, grid_number = 5, width_rate = 2, alter_orix =  0, alter_oriy = 0 , low_bound = 30, upper_bound = 200)\n",
    "# width_rate and alter_orix and alter_oriy ,因拍照角度導致mediapipe沒抓準時更動\n",
    "#low_bound, upper_bound is Canny coefficient"
   ]
  },
  {
   "cell_type": "code",
   "execution_count": 17,
   "id": "e76e8628-3b2c-44f1-a10a-2cd3e7dba652",
   "metadata": {},
   "outputs": [],
   "source": [
    "import csv\n",
    "file = open('label.csv',mode='w', newline='')\n",
    "writer = csv.writer(file)\n",
    "writer.writerow(['id', 'label'])\n",
    "writer.writerow([1, '((4-4)-(3-7)-(3-9))'])\n",
    "writer.writerow([2, '((3-3)-(3-5)-(3-7))'])\n",
    "writer.writerow([3, '((3-6)-(3-9)-(2-12))'])\n",
    "writer.writerow([4, '((3-4)-(2-7)-(2-9))'])\n",
    "writer.writerow([5, '((4-3)-(4-5)-(4-8))'])\n",
    "writer.writerow([6, '((3-6)-(3-9)-(3-13))'])\n",
    "writer.writerow([7, '((3-5)-(2-8)-(2-10))'])\n",
    "writer.writerow([8, '((4-3)-(4-4)-(3-7))'])\n",
    "writer.writerow([9, '((3-4)-(3-6)-(3-9))'])\n",
    "writer.writerow([10, '((2-3)-(2-5)-(2-7))'])\n",
    "writer.writerow([11, '((3-4)-(3-6)-(3-9))'])\n",
    "writer.writerow([12, '((4-3)-(4-7)-(4-10))'])\n",
    "writer.writerow([13, '((3-5)-(2-9)-(2-13))'])\n",
    "writer.writerow([14, '((3-4)-(4-6)-(4-9))'])\n",
    "writer.writerow([15, '((4-3)-(3-4)-(4-7))'])\n",
    "writer.writerow([16, '((3-4)-(3-8)-(3-11))'])\n",
    "writer.writerow([17, '((3-3)-(3-4)-(3-7))'])\n",
    "writer.writerow([18, '((3-4)-(3-6)-(3-8))'])\n",
    "writer.writerow([19, '((3-3)-(3-5)-(3-8))'])\n",
    "writer.writerow([20, '((3-3)-(3-6)-(4-9))'])\n",
    "writer.writerow([21, '((2-3)-(3-7)-(2-10))'])\n",
    "writer.writerow([22, '((3-4)-(3-6)-(2-8))'])\n",
    "writer.writerow([23, '((2-3)-(2-6)-(2-9))'])\n",
    "writer.writerow([24, '((3-5)-(2-7)-(2-10))'])\n",
    "writer.writerow([25, '((4-5)-(4-8)-(4-10))'])\n",
    "writer.writerow([26, '((4-3)-(3-5)-(3-8))'])\n",
    "writer.writerow([27, '((3-4)-(3-6)-(3-8))'])\n",
    "writer.writerow([28, '((3-2)-(3-4)-(3-7))'])\n",
    "writer.writerow([29, '((3-2)-(3-5)-(3-8))'])\n",
    "writer.writerow([30, '((3-3)-(2-5)-(2-7))'])\n",
    "writer.writerow([31, '((2-3)-(2-5)-(2-7))'])\n",
    "writer.writerow([32, '((3-4)-(3-5)-(3-7))'])\n",
    "writer.writerow([33, '((3-2)-(3-4)-(3-6))'])\n",
    "writer.writerow([34, '((2-4)-(2-5)-(2-7))'])\n",
    "writer.writerow([35, '((2-3)-(2-5)-(1-7))'])\n",
    "writer.writerow([36, '((2-3)-(2-5)-(2-7))'])\n",
    "writer.writerow([37, '((4-4)-(4-7)-(4-10))'])\n",
    "writer.writerow([38, '((2-5)-(2-9)-(2-13))'])\n",
    "writer.writerow([39, '((3-3)-(3-6)-(3-10))'])\n",
    "writer.writerow([40, '((4-3)-(3-6)-(4-10))'])\n",
    "writer.writerow([41, '((4-2)-(4-4)-(3-6))'])\n",
    "writer.writerow([42, '((3-5)-(3-7)-(4-10))'])\n",
    "\n",
    "file.close()"
   ]
  },
  {
   "cell_type": "code",
   "execution_count": 9,
   "id": "45c01d55-2705-4a26-b364-ad3362baeee8",
   "metadata": {},
   "outputs": [
    {
     "name": "stdout",
     "output_type": "stream",
     "text": [
      "\n",
      "..\n",
      "C:\\Users\\AILAB\\AILAB\n"
     ]
    }
   ],
   "source": [
    "import os\n",
    "print(os.path.dirname('__file__'))\n",
    "print(os.path.join(os.path.dirname(\"__file__\"),os.path.pardir))\n",
    "print(os.path.abspath(os.path.join(os.path.dirname(\"__file__\"),os.path.pardir)))"
   ]
  },
  {
   "cell_type": "code",
   "execution_count": null,
   "id": "5cf705b1-2000-44b9-8bf1-151292dff0b1",
   "metadata": {},
   "outputs": [],
   "source": []
  }
 ],
 "metadata": {
  "kernelspec": {
   "display_name": "Python 3 (ipykernel)",
   "language": "python",
   "name": "python3"
  },
  "language_info": {
   "codemirror_mode": {
    "name": "ipython",
    "version": 3
   },
   "file_extension": ".py",
   "mimetype": "text/x-python",
   "name": "python",
   "nbconvert_exporter": "python",
   "pygments_lexer": "ipython3",
   "version": "3.9.7"
  }
 },
 "nbformat": 4,
 "nbformat_minor": 5
}
