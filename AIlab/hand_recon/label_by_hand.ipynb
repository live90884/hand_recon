{
 "cells": [
  {
   "cell_type": "code",
   "execution_count": 20,
   "id": "083b2d23-dae8-433e-9665-193da93e8e18",
   "metadata": {},
   "outputs": [
    {
     "name": "stdout",
     "output_type": "stream",
     "text": [
      "請依序點擊\"碗關節\"及垂直於手臂\"任一另一點\"及劃出的線之延伸\"腕旁點\"坐標：\n",
      "414 636 328 640\n",
      "hand type: left\n"
     ]
    },
    {
     "data": {
      "text/plain": [
       "'((3-4)-(4-7)-(4-9))'"
      ]
     },
     "execution_count": 20,
     "metadata": {},
     "output_type": "execute_result"
    }
   ],
   "source": [
    "from function.labelByHand import exe # (folder id, find width rate, whether show select point, grid_number)\n",
    "from function.check import check_label\n",
    "#check_label(id = '32', const_rate = 5, whether_show = 1, grid_number = 5, width_rate = 2, alter_ori =  0, low_bound = 10, upper_bound = 100)\n",
    "exe(id = '42', const_rate = 5, grid_number = 5, width_rate = 2, alter_orix =  0, alter_oriy = 0 , low_bound = 30, upper_bound = 180)\n",
    "# width_rate and alter_orix and alter_oriy ,因拍照角度導致mediapipe沒抓準時更動\n",
    "#low_bound, upper_bound is Canny coefficient"
   ]
  },
  {
   "cell_type": "code",
   "execution_count": 21,
   "id": "8c191908-b16d-4f94-98e9-f63f4855a2d4",
   "metadata": {},
   "outputs": [],
   "source": [
    "import csv\n",
    "file = open('labelByHand.csv',mode='w', newline='')\n",
    "writer = csv.writer(file)\n",
    "writer.writerow(['id', 'label'])\n",
    "writer.writerow([1, '((4-3)-(4-7)-(4-10))'])\n",
    "writer.writerow([2, '((3-2)-(3-5)-(3-7))'])\n",
    "writer.writerow([3, '((3-3)-(3-6)-(3-8))'])\n",
    "writer.writerow([4, '((2-3)-(2-5)-(2-8))'])\n",
    "writer.writerow([5, '((4-2)-(4-4)-(4-6))'])\n",
    "writer.writerow([6, '((3-5)-(3-7)-(3-10))'])\n",
    "writer.writerow([7, '((3-4)-(3-6)-(3-8))'])\n",
    "writer.writerow([8, '((5-2)-(4-4)-(3-7))'])\n",
    "writer.writerow([9, '((3-2)-(3-4)-(3-7))'])\n",
    "writer.writerow([10, '((3-2)-(2-4)-(2-7))'])\n",
    "writer.writerow([11, '((3-2)-(3-5)-(3-7))'])\n",
    "writer.writerow([12, '((4-2)-(4-5)-(4-8))'])\n",
    "writer.writerow([13, '((4-3)-(3-7)-(4-11))'])\n",
    "writer.writerow([14, '((4-3)-(4-5)-(4-8))'])\n",
    "writer.writerow([15, '((4-3)-(4-5)-(4-8))'])\n",
    "writer.writerow([16, '((3-4)-(3-6)-(3-10))'])\n",
    "writer.writerow([17, '((3-3)-(3-5)-(3-8))'])\n",
    "writer.writerow([18, '((3-4)-(3-6)-(3-9))'])\n",
    "writer.writerow([19, '((3-3)-(3-5)-(3-8))'])\n",
    "writer.writerow([20, '((3-3)-(3-6)-(4-9))'])\n",
    "writer.writerow([21, '((3-2)-(3-5)-(2-9))'])\n",
    "writer.writerow([22, '((3-2)-(3-5)-(3-7))'])\n",
    "writer.writerow([23, '((2-2)-(2-5)-(2-8))'])\n",
    "writer.writerow([24, '((3-5)-(2-7)-(2-10))'])\n",
    "writer.writerow([25, '((3-3)-(3-6)-(3-8))'])\n",
    "writer.writerow([26, '((3-3)-(3-6)-(3-9))'])\n",
    "writer.writerow([27, '((3-3)-(3-5)-(3-8))'])\n",
    "writer.writerow([28, '((3-3)-(4-5)-(4-7))'])\n",
    "writer.writerow([29, '((3-2)-(3-4)-(3-7))'])\n",
    "writer.writerow([30, '((3-3)-(3-6)-(3-9))'])\n",
    "writer.writerow([31, '((3-2)-(3-4)-(3-6))'])\n",
    "writer.writerow([32, '((3-2)-(3-4)-(3-6))'])\n",
    "writer.writerow([33, '((3-2)-(3-4)-(3-6))'])\n",
    "writer.writerow([34, '((2-2)-(2-5)-(2-7))'])\n",
    "writer.writerow([35, '((3-2)-(3-4)-(2-6))'])\n",
    "writer.writerow([36, '((2-2)-(2-4)-(2-6))'])\n",
    "writer.writerow([37, '((3-2)-(3-5)-(3-9))'])\n",
    "writer.writerow([38, '((3-3)-(3-6)-(3-9))'])\n",
    "writer.writerow([39, '((3-3)-(3-5)-(3-9))'])\n",
    "writer.writerow([40, '((3-3)-(3-6)-(3-10))'])\n",
    "writer.writerow([41, '((4-3)-(4-6)-(4-10))'])\n",
    "writer.writerow([42, '((3-4)-(3-7)-(3-9))'])\n",
    "\n",
    "file.close()"
   ]
  },
  {
   "cell_type": "code",
   "execution_count": null,
   "id": "b198469b-133b-4f36-8a85-aa65920101f0",
   "metadata": {},
   "outputs": [],
   "source": []
  }
 ],
 "metadata": {
  "kernelspec": {
   "display_name": "Python 3 (ipykernel)",
   "language": "python",
   "name": "python3"
  },
  "language_info": {
   "codemirror_mode": {
    "name": "ipython",
    "version": 3
   },
   "file_extension": ".py",
   "mimetype": "text/x-python",
   "name": "python",
   "nbconvert_exporter": "python",
   "pygments_lexer": "ipython3",
   "version": "3.9.7"
  }
 },
 "nbformat": 4,
 "nbformat_minor": 5
}
